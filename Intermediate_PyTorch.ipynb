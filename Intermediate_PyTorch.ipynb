{
  "nbformat": 4,
  "nbformat_minor": 0,
  "metadata": {
    "colab": {
      "provenance": [],
      "authorship_tag": "ABX9TyMqWT/+KsEvLtuSiyihBB4a",
      "include_colab_link": true
    },
    "kernelspec": {
      "name": "python3",
      "display_name": "Python 3"
    },
    "language_info": {
      "name": "python"
    },
    "accelerator": "GPU",
    "gpuClass": "standard"
  },
  "cells": [
    {
      "cell_type": "markdown",
      "metadata": {
        "id": "view-in-github",
        "colab_type": "text"
      },
      "source": [
        "<a href=\"https://colab.research.google.com/github/Fatma-Chaouech/PyTorch-Learning-Journey/blob/main/Intermediate_PyTorch.ipynb\" target=\"_parent\"><img src=\"https://colab.research.google.com/assets/colab-badge.svg\" alt=\"Open In Colab\"/></a>"
      ]
    },
    {
      "cell_type": "code",
      "source": [
        "import torch\n",
        "import numpy as np\n",
        "import matplotlib.pyplot as plt\n",
        "import matplotlib.ticker as ticker\n",
        "import math\n",
        "\n",
        "%matplotlib inline"
      ],
      "metadata": {
        "id": "SESoXhvUq3PU"
      },
      "execution_count": null,
      "outputs": []
    },
    {
      "cell_type": "markdown",
      "source": [
        "# Tensors"
      ],
      "metadata": {
        "id": "oWT0o-6HsvkW"
      }
    },
    {
      "cell_type": "markdown",
      "source": [
        "In PyTorch, if a torch method ends with an underscore, it means that it directly affects the value of the passed variable, like inplace=True.\n",
        "\n",
        "We could also specify a variable that will contain the resulting value using the argument \"out\". The variable specified in \"out\" will be the exact same object as the variable that we affected the result to. Let's see a quick example :"
      ],
      "metadata": {
        "id": "4SSLRPMupaKx"
      }
    },
    {
      "cell_type": "code",
      "execution_count": null,
      "metadata": {
        "colab": {
          "base_uri": "https://localhost:8080/"
        },
        "id": "xOwIXha9otlH",
        "outputId": "91786419-c754-4830-a49f-5c39f0c0f6fb"
      },
      "outputs": [
        {
          "output_type": "stream",
          "name": "stdout",
          "text": [
            "tensor([[0., 0.],\n",
            "        [0., 0.]])\n",
            "tensor([[0.2058, 0.1343],\n",
            "        [1.1684, 1.1062]])\n"
          ]
        }
      ],
      "source": [
        "a = torch.rand(2, 2)\n",
        "b = torch.rand(2, 2)\n",
        "c = torch.zeros(2, 2)\n",
        "old_id = id(c)\n",
        "\n",
        "print(c)\n",
        "d = torch.matmul(a, b, out=c)\n",
        "print(c)                # contents of c have changed\n",
        "\n",
        "assert c is d           # test c & d are same object, not just containing equal values\n",
        "assert id(c), old_id    # make sure that our new c is the same object as the old one"
      ]
    },
    {
      "cell_type": "markdown",
      "source": [
        "Variable assigning in PyTorch doesn't generate a copy. If you want a separate copy of the data to work on, you should use the clone() method. "
      ],
      "metadata": {
        "id": "OjDqQdGGq9_y"
      }
    },
    {
      "cell_type": "code",
      "source": [
        "# simple assigning\n",
        "v = torch.ones(2, 2)\n",
        "u = v\n",
        "\n",
        "v[0][1] = 561  # we change a...\n",
        "print(v)       # ...and b is also altered\n",
        "\n",
        "\n",
        "# using clone()\n",
        "a = torch.ones(2, 2)\n",
        "b = a.clone()\n",
        "\n",
        "assert b is not a      # different objects in memory...\n",
        "print(torch.eq(a, b))  # ...but still with the same contents!\n",
        "\n",
        "a[0][1] = 561          # a changes...\n",
        "print(b)               # ...but b is still all ones"
      ],
      "metadata": {
        "colab": {
          "base_uri": "https://localhost:8080/"
        },
        "id": "AXob9W-Sqo_E",
        "outputId": "9ee0f37f-7e47-47a5-e83a-9f56ba7d62ea"
      },
      "execution_count": null,
      "outputs": [
        {
          "output_type": "stream",
          "name": "stdout",
          "text": [
            "tensor([[  1., 561.],\n",
            "        [  1.,   1.]])\n",
            "tensor([[True, True],\n",
            "        [True, True]])\n",
            "tensor([[1., 1.],\n",
            "        [1., 1.]])\n"
          ]
        }
      ]
    },
    {
      "cell_type": "markdown",
      "source": [
        "**It's important to note that if your source tensor has autograd, enabled then so will the clone.** If you want to turn off the autograd, use the detach() method before cloning."
      ],
      "metadata": {
        "id": "UlRBjZlhsQz4"
      }
    },
    {
      "cell_type": "markdown",
      "source": [
        "# GPU Computing"
      ],
      "metadata": {
        "id": "I1dFVMqsszYp"
      }
    },
    {
      "cell_type": "markdown",
      "source": [
        "We first need to check if we have a GPU available with .is_available() method."
      ],
      "metadata": {
        "id": "vsoqAOsatLDt"
      }
    },
    {
      "cell_type": "code",
      "source": [
        "if torch.cuda.is_available():\n",
        "    print('We have a GPU!')\n",
        "else:\n",
        "    print('Sorry, CPU only.')"
      ],
      "metadata": {
        "colab": {
          "base_uri": "https://localhost:8080/"
        },
        "id": "iDEAkbDQro-1",
        "outputId": "eb4a9d46-86d0-468a-b0d2-98c2cdda1600"
      },
      "execution_count": null,
      "outputs": [
        {
          "output_type": "stream",
          "name": "stdout",
          "text": [
            "We have a GPU!\n"
          ]
        }
      ]
    },
    {
      "cell_type": "markdown",
      "source": [
        "The CPU does computation on data in the computer's RAM. However, **the GPU has dedicated memory attached to it.** Thus, we should move all the data needed for that computation to memory accessible by the GPU. We often say that we \"move the data to the GPU\"."
      ],
      "metadata": {
        "id": "noEyfIm7ttaf"
      }
    },
    {
      "cell_type": "markdown",
      "source": [
        "There are many ways to make your data accessible by the device. \n",
        "* At creation time : specify to the argument device='cuda' with the creation of the tensor object.\n",
        "* Create a torch.device object and pass it as argument to your tensor objects.\n",
        "* If you already have created your tensor object, you can use `.to()` method to move it to the gpu.\n",
        "\n",
        "**Note : In order to do computation involving two or more tensors, all of the tensors must be on the same device.**"
      ],
      "metadata": {
        "id": "xi5rxB0-F6TV"
      }
    },
    {
      "cell_type": "code",
      "source": [
        "if torch.cuda.is_available():\n",
        "  # at creation\n",
        "  gpu_rand = torch.rand(2, 2, device='cuda')\n",
        "\n",
        "  # create device object\n",
        "  my_device = torch.device('cuda')\n",
        "  gpu_rand = torch.rand(2, 2, device=my_device)\n",
        "\n",
        "  # move an existing object\n",
        "  gpu_rand = gpu_rand.to(my_device)"
      ],
      "metadata": {
        "id": "zPdL4IF-tS_c"
      },
      "execution_count": null,
      "outputs": []
    },
    {
      "cell_type": "markdown",
      "source": [
        "# Manipulating Tensor Shapes\n",
        "\n"
      ],
      "metadata": {
        "id": "jbVy7HJjIdEY"
      }
    },
    {
      "cell_type": "code",
      "source": [
        "a = torch.rand(3, 226, 226)\n",
        "c = torch.rand(1, 20)\n",
        "\n",
        "# add a dimension of extent 1 as a zeroth dimension\n",
        "b = a.unsqueeze(0)\n",
        "\n",
        "# squeeze the zeroth dimension\n",
        "d = c.squeeze(0)"
      ],
      "metadata": {
        "id": "lDRbox1rIZQi"
      },
      "execution_count": null,
      "outputs": []
    },
    {
      "cell_type": "markdown",
      "source": [
        "Note : \n",
        "* if you try to squeeze a torch with no dimension of extent 1, nothing will happen.\n",
        "* if you want the squeeze (respectively unsqueeze) method to act directy on the torch (inplace=True), use `squeeze_()` (respectively `unsqueeze_()`)"
      ],
      "metadata": {
        "id": "KeVLU_hUJY9O"
      }
    },
    {
      "cell_type": "markdown",
      "source": [
        "# NumPy Bridge"
      ],
      "metadata": {
        "id": "XftjWpdlLfyM"
      }
    },
    {
      "cell_type": "markdown",
      "source": [
        "It's easy to switch between a numpy array and a tensor."
      ],
      "metadata": {
        "id": "gd7IPXmHL9PV"
      }
    },
    {
      "cell_type": "code",
      "source": [
        "# from numpy to torch\n",
        "a = np.ones((2, 4))\n",
        "b = torch.from_numpy(a)\n",
        "\n",
        "# from torch to numpy\n",
        "c = torch.ones((2, 4))\n",
        "d = np.array(c)"
      ],
      "metadata": {
        "id": "8JnrAxwOJhS9"
      },
      "execution_count": null,
      "outputs": []
    },
    {
      "cell_type": "markdown",
      "source": [
        "**It is important to know that these converted objects are using the same underlying memory as their source objects. If you want to create another object, use the `clone()` method.**"
      ],
      "metadata": {
        "id": "wb0QlGt1MjEW"
      }
    },
    {
      "cell_type": "markdown",
      "source": [
        "# Autograd\n",
        "\n",
        "Autograd tracks the history of every computation. Every computed tensor in your PyTorch model carries a history of its input tensors and the function used to create it. Combined with the fact that PyTorch functions meant to act on tensors each have a built-in implementation for computing their own derivatives, this greatly speeds the computation of the local derivatives needed for learning. \n",
        "\n",
        "Here's how autograd is used."
      ],
      "metadata": {
        "id": "It-HMfOuMw_P"
      }
    },
    {
      "cell_type": "code",
      "source": [
        "a = torch.linspace(0, 10, steps=25, requires_grad=True) # autograd will be accumulating the history of the computation in the output tensors of that computation\n",
        "print(a)"
      ],
      "metadata": {
        "colab": {
          "base_uri": "https://localhost:8080/"
        },
        "id": "LzB2CF7TMyL8",
        "outputId": "32dedfb6-4081-4fa3-e8ed-92781d49cb2b"
      },
      "execution_count": null,
      "outputs": [
        {
          "output_type": "stream",
          "name": "stdout",
          "text": [
            "tensor([ 0.0000,  0.4167,  0.8333,  1.2500,  1.6667,  2.0833,  2.5000,  2.9167,\n",
            "         3.3333,  3.7500,  4.1667,  4.5833,  5.0000,  5.4167,  5.8333,  6.2500,\n",
            "         6.6667,  7.0833,  7.5000,  7.9167,  8.3333,  8.7500,  9.1667,  9.5833,\n",
            "        10.0000], requires_grad=True)\n"
          ]
        }
      ]
    },
    {
      "cell_type": "code",
      "source": [
        "b = torch.sin(a)\n",
        "plt.plot(a.detach(), b.detach())  # plotting requires the detach"
      ],
      "metadata": {
        "colab": {
          "base_uri": "https://localhost:8080/",
          "height": 282
        },
        "id": "oUnDNylTPiqn",
        "outputId": "893fcea8-068a-4fbf-bf0a-cc31bb8859e4"
      },
      "execution_count": null,
      "outputs": [
        {
          "output_type": "execute_result",
          "data": {
            "text/plain": [
              "[<matplotlib.lines.Line2D at 0x7fac397df100>]"
            ]
          },
          "metadata": {},
          "execution_count": 29
        },
        {
          "output_type": "display_data",
          "data": {
            "text/plain": [
              "<Figure size 432x288 with 1 Axes>"
            ],
            "image/png": "[encoded data removed]"
          },
          "metadata": {
            "needs_background": "light"
          }
        }
      ]
    },
    {
      "cell_type": "markdown",
      "source": [
        "Now, if we print b, we're going to see that the sin function is registered."
      ],
      "metadata": {
        "id": "MSJMy88sQH3r"
      }
    },
    {
      "cell_type": "code",
      "source": [
        "print(b)"
      ],
      "metadata": {
        "colab": {
          "base_uri": "https://localhost:8080/"
        },
        "id": "JozoJIaePzHM",
        "outputId": "2a68a3df-5c43-4b44-d047-5628232ba390"
      },
      "execution_count": null,
      "outputs": [
        {
          "output_type": "stream",
          "name": "stdout",
          "text": [
            "tensor([ 0.0000,  0.4047,  0.7402,  0.9490,  0.9954,  0.8715,  0.5985,  0.2230,\n",
            "        -0.1906, -0.5716, -0.8548, -0.9917, -0.9589, -0.7621, -0.4348, -0.0332,\n",
            "         0.3742,  0.7175,  0.9380,  0.9980,  0.8873,  0.6247,  0.2553, -0.1579,\n",
            "        -0.5440], grad_fn=<SinBackward0>)\n"
          ]
        }
      ]
    },
    {
      "cell_type": "markdown",
      "source": [
        "Let's do some more computation."
      ],
      "metadata": {
        "id": "u2tFQc6SQZTh"
      }
    },
    {
      "cell_type": "code",
      "source": [
        "b = b * 2 + 1\n",
        "print(b)"
      ],
      "metadata": {
        "colab": {
          "base_uri": "https://localhost:8080/"
        },
        "id": "afwK6l6eQPYh",
        "outputId": "609330d6-50fa-46d0-c03e-83ef4691eddf"
      },
      "execution_count": null,
      "outputs": [
        {
          "output_type": "stream",
          "name": "stdout",
          "text": [
            "tensor([ 1.0000,  1.8094,  2.4804,  2.8980,  2.9908,  2.7430,  2.1969,  1.4461,\n",
            "         0.6189, -0.1431, -0.7095, -0.9834, -0.9178, -0.5242,  0.1303,  0.9336,\n",
            "         1.7483,  2.4349,  2.8760,  2.9961,  2.7746,  2.2494,  1.5105,  0.6842,\n",
            "        -0.0880], grad_fn=<AddBackward0>)\n"
          ]
        }
      ]
    },
    {
      "cell_type": "markdown",
      "source": [
        "Finally, let's call the `backward()` method on a tensor. But first, we should compute a single-element output, since the `backward()` methods expects the calling tensor to only contain a single element."
      ],
      "metadata": {
        "id": "dvgUnKHbQpL3"
      }
    },
    {
      "cell_type": "code",
      "source": [
        "out = b.sum()\n",
        "print(out)\n",
        "\n",
        "# Visualize the history of b\n",
        "functions = b.grad_fn.next_functions\n",
        "print(functions)\n",
        "print(b.grad_fn.next_functions[0][0].next_functions)\n",
        "print(b.grad_fn.next_functions[0][0].next_functions[0][0].next_functions)\n",
        "print(b.grad_fn.next_functions[0][0].next_functions[0][0].next_functions[0][0].next_functions)\n",
        "print('\\n')\n",
        "print(a.grad)\n",
        "print('\\n')\n",
        "\n",
        "out.backward()\n",
        "# the derivative of a\n",
        "print(a.grad)"
      ],
      "metadata": {
        "colab": {
          "base_uri": "https://localhost:8080/"
        },
        "id": "Vqwlhif-QXcF",
        "outputId": "50e8dc41-6b4d-4fab-a069-ec746af7d6b1"
      },
      "execution_count": null,
      "outputs": [
        {
          "output_type": "stream",
          "name": "stdout",
          "text": [
            "tensor(33.1554, grad_fn=<SumBackward0>)\n",
            "((<MulBackward0 object at 0x7fac398064c0>, 0), (None, 0))\n",
            "((<SinBackward0 object at 0x7fac397df370>, 0), (None, 0))\n",
            "((<AccumulateGrad object at 0x7fac39806ee0>, 0),)\n",
            "()\n",
            "\n",
            "\n",
            "None\n",
            "\n",
            "\n",
            "tensor([ 2.0000,  1.8289,  1.3448,  0.6306, -0.1914, -0.9808, -1.6023, -1.9496,\n",
            "        -1.9633, -1.6411, -1.0381, -0.2574,  0.5673,  1.2950,  1.8010,  1.9989,\n",
            "         1.8547,  1.3932,  0.6933, -0.1253, -0.9224, -1.5617, -1.9337, -1.9749,\n",
            "        -1.6781])\n"
          ]
        }
      ]
    },
    {
      "cell_type": "code",
      "source": [
        "# display the gradient of a\n",
        "plt.plot(a.detach(), a.grad.detach())"
      ],
      "metadata": {
        "colab": {
          "base_uri": "https://localhost:8080/",
          "height": 282
        },
        "id": "CTzqR9ZGQnvJ",
        "outputId": "bf55c3dc-902a-4b91-9c68-6188f9ee9747"
      },
      "execution_count": null,
      "outputs": [
        {
          "output_type": "execute_result",
          "data": {
            "text/plain": [
              "[<matplotlib.lines.Line2D at 0x7fac398692e0>]"
            ]
          },
          "metadata": {},
          "execution_count": 33
        },
        {
          "output_type": "display_data",
          "data": {
            "text/plain": [
              "<Figure size 432x288 with 1 Axes>"
            ],
            "image/png": "[encoded data removed]"
          },
          "metadata": {
            "needs_background": "light"
          }
        }
      ]
    },
    {
      "cell_type": "markdown",
      "source": [
        "**Note that only leaf nodes of the computation have their gradients computed.**"
      ],
      "metadata": {
        "id": "At0ia83ITY_3"
      }
    },
    {
      "cell_type": "code",
      "source": [],
      "metadata": {
        "id": "HUXeEp8wTXEy"
      },
      "execution_count": null,
      "outputs": []
    },
    {
      "cell_type": "code",
      "source": [],
      "metadata": {
        "id": "msRyTh-STOzc"
      },
      "execution_count": null,
      "outputs": []
    }
  ]
}